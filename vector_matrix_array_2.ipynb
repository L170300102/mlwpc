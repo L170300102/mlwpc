{
 "cells": [
  {
   "cell_type": "markdown",
   "id": "dc88b6a8",
   "metadata": {},
   "source": [
    "## vector or matrix transpose\n",
    "\n",
    "use T method"
   ]
  },
  {
   "cell_type": "code",
   "execution_count": 15,
   "id": "6ac7669b",
   "metadata": {},
   "outputs": [
    {
     "name": "stdout",
     "output_type": "stream",
     "text": [
      "[[1 4 7]\n",
      " [2 5 8]\n",
      " [3 6 9]]\n",
      "[[1 4 7]\n",
      " [2 5 8]\n",
      " [3 6 9]]\n"
     ]
    }
   ],
   "source": [
    "import numpy as np\n",
    "\n",
    "# 행렬 만들고 전치한다\n",
    "matrix = np.array([[1, 2, 3],\n",
    "                  [4, 5, 6],\n",
    "                  [7, 8, 9]])\n",
    "\n",
    "print(matrix.T)\n",
    "\n",
    "# transpose method사용해도 가능\n",
    "print(matrix.transpose())"
   ]
  },
  {
   "cell_type": "code",
   "execution_count": 9,
   "id": "9eae49f0",
   "metadata": {},
   "outputs": [
    {
     "name": "stdout",
     "output_type": "stream",
     "text": [
      "[[[ 1  2]\n",
      "  [ 3  4]\n",
      "  [ 5  6]]\n",
      "\n",
      " [[ 7  8]\n",
      "  [ 9 10]\n",
      "  [11 12]]]\n",
      "\n",
      "\n",
      "[[[ 1  3  5]\n",
      "  [ 2  4  6]]\n",
      "\n",
      " [[ 7  9 11]\n",
      "  [ 8 10 12]]]\n"
     ]
    }
   ],
   "source": [
    "# transpose method 사용, 튜플로 바꿀차원 직접 지정가능\n",
    "# 2*3*2행렬 만든다\n",
    "matrix_2 = np.array([[[1, 2],\n",
    "                     [3, 4],\n",
    "                     [5, 6]],\n",
    "                    \n",
    "                    [[7, 8],\n",
    "                    [9, 10],\n",
    "                    [11, 12]]])\n",
    "print(matrix_2)\n",
    "print('\\n')\n",
    "\n",
    "# change 2nd, 3rd into 2*2*3 행렬 만든다\n",
    "print(matrix_2.transpose((0, 2, 1)))"
   ]
  },
  {
   "cell_type": "code",
   "execution_count": 5,
   "id": "bae469fd",
   "metadata": {},
   "outputs": [
    {
     "name": "stdout",
     "output_type": "stream",
     "text": [
      "[1 2 3 4 5 6]\n",
      "[[1]\n",
      " [2]\n",
      " [3]\n",
      " [4]\n",
      " [5]\n",
      " [6]]\n",
      "[[1 2 3 4 5 6]]\n",
      "[[1]\n",
      " [2]\n",
      " [3]\n",
      " [4]\n",
      " [5]\n",
      " [6]]\n"
     ]
    }
   ],
   "source": [
    "# 벡터 전치는 선형대수와 달리 불가, 단지 행벡터를 열벡터로 변환 혹은 그 반대 가능하다. 대괄호 두번 사용해서 해결한다\n",
    "vector_1 = np.array([1, 2, 3, 4, 5, 6])\n",
    "print(vector_1.T)\n",
    "\n",
    "vector_2 = np.array([[1, 2, 3, 4, 5, 6]])\n",
    "print(vector_2.T)\n",
    "\n",
    "vector_3 = np.array([vector_1])\n",
    "print(vector_3)\n",
    "print(vector_3.T)"
   ]
  },
  {
   "cell_type": "markdown",
   "id": "7bee4d31",
   "metadata": {},
   "source": [
    "## 행렬 펼치기\n",
    "\n",
    "### 행렬을 1차원 배열로\n",
    "\n",
    "flatten method 사용한다"
   ]
  },
  {
   "cell_type": "code",
   "execution_count": 11,
   "id": "31326900",
   "metadata": {},
   "outputs": [
    {
     "name": "stdout",
     "output_type": "stream",
     "text": [
      "[[1 2 3]\n",
      " [4 5 6]\n",
      " [7 8 9]]\n",
      "[1 2 3 4 5 6 7 8 9]\n",
      "[[1 2 3 4 5 6 7 8 9]]\n"
     ]
    }
   ],
   "source": [
    "print(matrix)\n",
    "\n",
    "print(matrix.flatten())  # 새로운 배열을 만든다\n",
    "\n",
    "# 혹은 reshape method, 넘파이 배열의 view를 반환\n",
    "print(matrix.reshape(1, -1))"
   ]
  },
  {
   "cell_type": "code",
   "execution_count": 16,
   "id": "cea14deb",
   "metadata": {},
   "outputs": [
    {
     "name": "stdout",
     "output_type": "stream",
     "text": [
      "[-1  2  3  4  5  6  7  8  9]\n",
      "\n",
      "\n",
      "[1 2 3 4 5 6 7 8 9]\n"
     ]
    }
   ],
   "source": [
    "vector_flattened = matrix.flatten()\n",
    "vector_reshaped = matrix.reshape(-1)\n",
    "\n",
    "# change (0, 0) element\n",
    "matrix[0][0] = -1\n",
    "\n",
    "# reshape method는 원본의 변경이 반영됨, 복사이므로.\n",
    "print(vector_reshaped)\n",
    "print('\\n')\n",
    "\n",
    "# flatten method는 새 배열이므로 변경된 원본과 같지 않음\n",
    "print(vector_flattened)"
   ]
  },
  {
   "cell_type": "code",
   "execution_count": null,
   "id": "2ee9d3fa",
   "metadata": {},
   "outputs": [],
   "source": []
  }
 ],
 "metadata": {
  "kernelspec": {
   "display_name": "Python 3",
   "language": "python",
   "name": "python3"
  },
  "language_info": {
   "codemirror_mode": {
    "name": "ipython",
    "version": 3
   },
   "file_extension": ".py",
   "mimetype": "text/x-python",
   "name": "python",
   "nbconvert_exporter": "python",
   "pygments_lexer": "ipython3",
   "version": "3.7.1"
  }
 },
 "nbformat": 4,
 "nbformat_minor": 5
}
