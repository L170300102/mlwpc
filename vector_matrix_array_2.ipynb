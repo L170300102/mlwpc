{
 "cells": [
  {
   "cell_type": "markdown",
   "id": "dc88b6a8",
   "metadata": {},
   "source": [
    "## vector or matrix transpose\n",
    "\n",
    "use T method"
   ]
  },
  {
   "cell_type": "code",
   "execution_count": 15,
   "id": "6ac7669b",
   "metadata": {},
   "outputs": [
    {
     "name": "stdout",
     "output_type": "stream",
     "text": [
      "[[1 4 7]\n",
      " [2 5 8]\n",
      " [3 6 9]]\n",
      "[[1 4 7]\n",
      " [2 5 8]\n",
      " [3 6 9]]\n"
     ]
    }
   ],
   "source": [
    "import numpy as np\n",
    "\n",
    "# 행렬 만들고 전치한다\n",
    "matrix = np.array([[1, 2, 3],\n",
    "                  [4, 5, 6],\n",
    "                  [7, 8, 9]])\n",
    "\n",
    "print(matrix.T)\n",
    "\n",
    "# transpose method사용해도 가능\n",
    "print(matrix.transpose())"
   ]
  },
  {
   "cell_type": "code",
   "execution_count": 9,
   "id": "9eae49f0",
   "metadata": {},
   "outputs": [
    {
     "name": "stdout",
     "output_type": "stream",
     "text": [
      "[[[ 1  2]\n",
      "  [ 3  4]\n",
      "  [ 5  6]]\n",
      "\n",
      " [[ 7  8]\n",
      "  [ 9 10]\n",
      "  [11 12]]]\n",
      "\n",
      "\n",
      "[[[ 1  3  5]\n",
      "  [ 2  4  6]]\n",
      "\n",
      " [[ 7  9 11]\n",
      "  [ 8 10 12]]]\n"
     ]
    }
   ],
   "source": [
    "# transpose method 사용, 튜플로 바꿀차원 직접 지정가능\n",
    "# 2*3*2행렬 만든다\n",
    "matrix_2 = np.array([[[1, 2],\n",
    "                     [3, 4],\n",
    "                     [5, 6]],\n",
    "                    \n",
    "                    [[7, 8],\n",
    "                    [9, 10],\n",
    "                    [11, 12]]])\n",
    "print(matrix_2)\n",
    "print('\\n')\n",
    "\n",
    "# change 2nd, 3rd into 2*2*3 행렬 만든다\n",
    "print(matrix_2.transpose((0, 2, 1)))"
   ]
  },
  {
   "cell_type": "code",
   "execution_count": 5,
   "id": "bae469fd",
   "metadata": {},
   "outputs": [
    {
     "name": "stdout",
     "output_type": "stream",
     "text": [
      "[1 2 3 4 5 6]\n",
      "[[1]\n",
      " [2]\n",
      " [3]\n",
      " [4]\n",
      " [5]\n",
      " [6]]\n",
      "[[1 2 3 4 5 6]]\n",
      "[[1]\n",
      " [2]\n",
      " [3]\n",
      " [4]\n",
      " [5]\n",
      " [6]]\n"
     ]
    }
   ],
   "source": [
    "# 벡터 전치는 선형대수와 달리 불가, 단지 행벡터를 열벡터로 변환 혹은 그 반대 가능하다. 대괄호 두번 사용해서 해결한다\n",
    "vector_1 = np.array([1, 2, 3, 4, 5, 6])\n",
    "print(vector_1.T)\n",
    "\n",
    "vector_2 = np.array([[1, 2, 3, 4, 5, 6]])\n",
    "print(vector_2.T)\n",
    "\n",
    "vector_3 = np.array([vector_1])\n",
    "print(vector_3)\n",
    "print(vector_3.T)"
   ]
  },
  {
   "cell_type": "markdown",
   "id": "7bee4d31",
   "metadata": {},
   "source": [
    "## 행렬 펼치기\n",
    "\n",
    "### 행렬을 1차원 배열로\n",
    "\n",
    "flatten method 사용한다"
   ]
  },
  {
   "cell_type": "code",
   "execution_count": 11,
   "id": "31326900",
   "metadata": {},
   "outputs": [
    {
     "name": "stdout",
     "output_type": "stream",
     "text": [
      "[[1 2 3]\n",
      " [4 5 6]\n",
      " [7 8 9]]\n",
      "[1 2 3 4 5 6 7 8 9]\n",
      "[[1 2 3 4 5 6 7 8 9]]\n"
     ]
    }
   ],
   "source": [
    "print(matrix)\n",
    "\n",
    "print(matrix.flatten())  # 새로운 배열을 만든다\n",
    "\n",
    "# 혹은 reshape method, 넘파이 배열의 view를 반환\n",
    "print(matrix.reshape(1, -1))"
   ]
  },
  {
   "cell_type": "code",
   "execution_count": 16,
   "id": "cea14deb",
   "metadata": {},
   "outputs": [
    {
     "name": "stdout",
     "output_type": "stream",
     "text": [
      "[-1  2  3  4  5  6  7  8  9]\n",
      "\n",
      "\n",
      "[1 2 3 4 5 6 7 8 9]\n"
     ]
    }
   ],
   "source": [
    "vector_flattened = matrix.flatten()\n",
    "vector_reshaped = matrix.reshape(-1)\n",
    "\n",
    "# change (0, 0) element\n",
    "matrix[0][0] = -1\n",
    "\n",
    "# reshape method는 원본의 변경이 반영됨, 복사이므로.\n",
    "print(vector_reshaped)\n",
    "print('\\n')\n",
    "\n",
    "# flatten method는 새 배열이므로 변경된 원본과 같지 않음\n",
    "print(vector_flattened)"
   ]
  },
  {
   "cell_type": "code",
   "execution_count": 2,
   "id": "2ee9d3fa",
   "metadata": {},
   "outputs": [
    {
     "data": {
      "text/plain": [
       "2"
      ]
     },
     "execution_count": 2,
     "metadata": {},
     "output_type": "execute_result"
    }
   ],
   "source": [
    "# rank\n",
    "import numpy as np\n",
    "matrix = np.array([[1, 1, 1],\n",
    "                  [1, 1, 10],\n",
    "                  [1, 1, 15]])\n",
    "np.linalg.matrix_rank(matrix)"
   ]
  },
  {
   "cell_type": "markdown",
   "id": "fb0d5637",
   "metadata": {},
   "source": [
    "### calculate determinant\n",
    "\n",
    "numpy method det 사용한다"
   ]
  },
  {
   "cell_type": "code",
   "execution_count": 3,
   "id": "74835c13",
   "metadata": {},
   "outputs": [
    {
     "name": "stdout",
     "output_type": "stream",
     "text": [
      "[[ 1  1  1]\n",
      " [ 1  1 10]\n",
      " [ 1  1 15]]\n"
     ]
    },
    {
     "data": {
      "text/plain": [
       "0.0"
      ]
     },
     "execution_count": 3,
     "metadata": {},
     "output_type": "execute_result"
    }
   ],
   "source": [
    "print(matrix)\n",
    "\n",
    "np.linalg.det(matrix)"
   ]
  },
  {
   "cell_type": "code",
   "execution_count": 4,
   "id": "46551e3e",
   "metadata": {},
   "outputs": [
    {
     "name": "stdout",
     "output_type": "stream",
     "text": [
      "[[ 1  1  1]\n",
      " [ 1  1 10]\n",
      " [ 1  1 15]]\n"
     ]
    },
    {
     "data": {
      "text/plain": [
       "array([ 1,  1, 15])"
      ]
     },
     "execution_count": 4,
     "metadata": {},
     "output_type": "execute_result"
    }
   ],
   "source": [
    "# 대각원소 추출하기\n",
    "print(matrix)\n",
    "matrix.diagonal()"
   ]
  },
  {
   "cell_type": "code",
   "execution_count": 9,
   "id": "e94123a7",
   "metadata": {},
   "outputs": [
    {
     "name": "stdout",
     "output_type": "stream",
     "text": [
      "[ 1 10]\n",
      "11\n"
     ]
    }
   ],
   "source": [
    "# 주대각선 하나위의 대각원소 반환하기\n",
    "print(matrix.diagonal(offset=1))\n",
    "\n",
    "# 그의 합 반환하기\n",
    "print(matrix.trace(offset=1))"
   ]
  },
  {
   "cell_type": "code",
   "execution_count": 8,
   "id": "e0b96ccf",
   "metadata": {},
   "outputs": [
    {
     "name": "stdout",
     "output_type": "stream",
     "text": [
      "[[ 1  1  1]\n",
      " [ 1  1 10]\n",
      " [ 1  1 15]]\n",
      "17\n",
      "17\n"
     ]
    }
   ],
   "source": [
    "# 대각합계산\n",
    "print(matrix)\n",
    "\n",
    "print(matrix.trace())\n",
    "\n",
    "# 동일한 계산 결과\n",
    "print(sum(matrix.diagonal()))"
   ]
  },
  {
   "cell_type": "code",
   "execution_count": 12,
   "id": "7827b1dc",
   "metadata": {},
   "outputs": [
    {
     "name": "stdout",
     "output_type": "stream",
     "text": [
      "32\n",
      "32\n"
     ]
    }
   ],
   "source": [
    "# dot product\n",
    "import numpy as np\n",
    "\n",
    "va = np.array([1,2,3])\n",
    "vb = np.array([4,5,6])\n",
    "\n",
    "print(np.dot(va, vb))\n",
    "print(va@vb)"
   ]
  },
  {
   "cell_type": "code",
   "execution_count": 15,
   "id": "e1e20bd0",
   "metadata": {},
   "outputs": [
    {
     "name": "stdout",
     "output_type": "stream",
     "text": [
      "[[ 2  5  4]\n",
      " [ 2  4  2]\n",
      " [ 2  4 10]]\n",
      "[[ 2  5  4]\n",
      " [ 2  4  2]\n",
      " [ 2  4 10]]\n",
      "[[ 0 -1  2]\n",
      " [ 0 -2  0]\n",
      " [ 0 -2 -6]]\n",
      "[[ 0 -1  2]\n",
      " [ 0 -2  0]\n",
      " [ 0 -2 -6]]\n"
     ]
    }
   ],
   "source": [
    "# matrix add, subtract\n",
    "ma = np.array([[1,2,3],\n",
    "              [1,1,1],\n",
    "              [1,1,2]])\n",
    "mb = np.array([[1,3,1],\n",
    "              [1,3,1],\n",
    "              [1,3,8]])\n",
    "print(np.add(ma,mb))\n",
    "print(ma+mb)\n",
    "print(np.subtract(ma,mb))\n",
    "print(ma-mb)"
   ]
  },
  {
   "cell_type": "code",
   "execution_count": 16,
   "id": "87687591",
   "metadata": {},
   "outputs": [
    {
     "name": "stdout",
     "output_type": "stream",
     "text": [
      "[[ 1  6  3]\n",
      " [ 1  3  1]\n",
      " [ 1  3 16]]\n",
      "[[ 6 18 27]\n",
      " [ 3  9 10]\n",
      " [ 4 12 18]]\n"
     ]
    }
   ],
   "source": [
    "print(ma*mb)\n",
    "print(ma@mb)"
   ]
  },
  {
   "cell_type": "code",
   "execution_count": 17,
   "id": "a1bd346f",
   "metadata": {},
   "outputs": [],
   "source": [
    "# dot product 다차원 배열도 가능, 단 (a,b,c,D)크기 배열과 (e,f,D,h) 크기 배열 내적시\n",
    "# (a,b,c,e,f,h) 크기 반환"
   ]
  },
  {
   "cell_type": "code",
   "execution_count": 21,
   "id": "b233bce9",
   "metadata": {},
   "outputs": [
    {
     "name": "stdout",
     "output_type": "stream",
     "text": [
      "[[1 2 3]\n",
      " [1 1 1]\n",
      " [1 1 2]]\n",
      "[[-1.  1.  1.]\n",
      " [ 1.  1. -2.]\n",
      " [ 0. -1.  1.]]\n",
      "[[1. 0. 0.]\n",
      " [0. 1. 0.]\n",
      " [0. 0. 1.]]\n",
      "[[1. 0. 0.]\n",
      " [0. 1. 0.]\n",
      " [0. 0. 1.]]\n"
     ]
    }
   ],
   "source": [
    "print(ma)\n",
    "\n",
    "# 역행렬\n",
    "inva = np.linalg.inv(ma)\n",
    "print(inva)\n",
    "print(ma@inva)\n",
    "print(np.matmul(ma,inva))"
   ]
  },
  {
   "cell_type": "markdown",
   "id": "7a0b9f36",
   "metadata": {},
   "source": [
    "### generate random number"
   ]
  },
  {
   "cell_type": "code",
   "execution_count": 22,
   "id": "22489e06",
   "metadata": {},
   "outputs": [
    {
     "name": "stdout",
     "output_type": "stream",
     "text": [
      "[0.5488135  0.71518937 0.60276338]\n"
     ]
    }
   ],
   "source": [
    "# 초기값지정\n",
    "np.random.seed(0)\n",
    "\n",
    "# 0, 1사이 세개 실수 생성\n",
    "print(np.random.random(3))"
   ]
  },
  {
   "cell_type": "code",
   "execution_count": 28,
   "id": "763d6af0",
   "metadata": {},
   "outputs": [
    {
     "data": {
      "text/plain": [
       "array([4, 3, 0])"
      ]
     },
     "execution_count": 28,
     "metadata": {},
     "output_type": "execute_result"
    }
   ],
   "source": [
    "# 0, 10사이 정수 세개 생성, 0포함 11포함안함\n",
    "np.random.randint(0, 11, 3)"
   ]
  },
  {
   "cell_type": "code",
   "execution_count": 35,
   "id": "a87e6e71",
   "metadata": {},
   "outputs": [
    {
     "name": "stdout",
     "output_type": "stream",
     "text": [
      "[ 0.93755884 -0.25460809  0.97359871] \n",
      "\n",
      "[0.8119815  0.97067631 0.00529754] \n",
      "\n",
      "[0.95608363 0.6439902  0.42385505] \n",
      "\n",
      "[[ 0.20728277 -0.24107359  0.05334491]\n",
      " [ 1.03081595 -1.27698899  0.83771977]] \n",
      "\n",
      "[[-1.49011141 -1.070215   -0.20912862]\n",
      " [ 0.60457228 -1.74305823  1.52422681]]\n"
     ]
    }
   ],
   "source": [
    "# 평균0, 표준편차1인 정규분포에서 세개 생성\n",
    "print(np.random.normal(0, 1, 3),'\\n')\n",
    "\n",
    "# 평균0, 스케일1인 로지스틱 분포에서 세개 추출\n",
    "print(np.random.logistic(0,1 ,3),'\\n')\n",
    "\n",
    "print(np.random.uniform(0, 1, 3),'\\n')\n",
    "\n",
    "# np.random.normal(0, 1, (2, 3))과 동일\n",
    "print(np.random.standard_normal((2,3)), '\\n')\n",
    "\n",
    "print(np.random.randn(2,3))"
   ]
  },
  {
   "cell_type": "code",
   "execution_count": 37,
   "id": "b8a0e4ee",
   "metadata": {},
   "outputs": [
    {
     "name": "stdout",
     "output_type": "stream",
     "text": [
      "[200   0 200 200 200]\n"
     ]
    }
   ],
   "source": [
    "print(np.random.choice([0,1,200],5))"
   ]
  },
  {
   "cell_type": "code",
   "execution_count": 41,
   "id": "4baef34a",
   "metadata": {},
   "outputs": [
    {
     "data": {
      "text/plain": [
       "array([1, 2, 0, 3, 4])"
      ]
     },
     "execution_count": 41,
     "metadata": {},
     "output_type": "execute_result"
    }
   ],
   "source": [
    "a = np.array([0,1,2,3,4])\n",
    "np.random.shuffle(a)\n",
    "a"
   ]
  },
  {
   "cell_type": "code",
   "execution_count": 40,
   "id": "886ccb9b",
   "metadata": {},
   "outputs": [
    {
     "data": {
      "text/plain": [
       "array([0, 3, 1, 4, 2])"
      ]
     },
     "execution_count": 40,
     "metadata": {},
     "output_type": "execute_result"
    }
   ],
   "source": [
    "a"
   ]
  },
  {
   "cell_type": "code",
   "execution_count": 42,
   "id": "b748fbdb",
   "metadata": {},
   "outputs": [
    {
     "data": {
      "text/plain": [
       "array([1, 0, 2, 4, 3])"
      ]
     },
     "execution_count": 42,
     "metadata": {},
     "output_type": "execute_result"
    }
   ],
   "source": [
    "np.random.permutation(a)"
   ]
  },
  {
   "cell_type": "code",
   "execution_count": 43,
   "id": "6dd02172",
   "metadata": {},
   "outputs": [
    {
     "data": {
      "text/plain": [
       "array([1, 2, 0, 3, 4])"
      ]
     },
     "execution_count": 43,
     "metadata": {},
     "output_type": "execute_result"
    }
   ],
   "source": [
    "a"
   ]
  },
  {
   "cell_type": "code",
   "execution_count": 44,
   "id": "fa27fca3",
   "metadata": {},
   "outputs": [
    {
     "data": {
      "text/plain": [
       "array([11,  0, 12,  2,  9,  6,  8,  1,  7, 10, 13, 14,  4,  3,  5])"
      ]
     },
     "execution_count": 44,
     "metadata": {},
     "output_type": "execute_result"
    }
   ],
   "source": [
    "np.random.permutation(15)"
   ]
  },
  {
   "cell_type": "code",
   "execution_count": null,
   "id": "12f3ead2",
   "metadata": {},
   "outputs": [],
   "source": []
  }
 ],
 "metadata": {
  "kernelspec": {
   "display_name": "Python 3",
   "language": "python",
   "name": "python3"
  },
  "language_info": {
   "codemirror_mode": {
    "name": "ipython",
    "version": 3
   },
   "file_extension": ".py",
   "mimetype": "text/x-python",
   "name": "python",
   "nbconvert_exporter": "python",
   "pygments_lexer": "ipython3",
   "version": "3.7.1"
  }
 },
 "nbformat": 4,
 "nbformat_minor": 5
}
