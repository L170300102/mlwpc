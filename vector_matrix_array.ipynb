{
 "cells": [
  {
   "cell_type": "markdown",
   "metadata": {},
   "source": [
    "# Chapter 1\n",
    "\n",
    "## vector\n",
    "\n",
    "벡터 만들기  \n",
    "넘파이는 다차원 배열. 벡터는 1차원 배열로 만듬. 넘파이 배열은 ndarray 클래스의 객체. asarray함수 사용하여 배열 만들수 있음. asarray함수 입력 넘파이 배열일 경우 새 배열 생성하지 **않음**. "
   ]
  },
  {
   "cell_type": "code",
   "execution_count": 3,
   "metadata": {},
   "outputs": [
    {
     "name": "stdout",
     "output_type": "stream",
     "text": [
      "<class 'numpy.ndarray'>\n",
      "True\n"
     ]
    }
   ],
   "source": [
    "# import library\n",
    "import numpy as np\n",
    "\n",
    "# one row행 vector\n",
    "vector_row = np.array([1, 2, 3])\n",
    "\n",
    "# one column열 vector\n",
    "vector_column =  np.array([[1],[2],[3]])\n",
    "\n",
    "print(type(vector_row))\n",
    "\n",
    "new_row = np.asarray([1, 2, 3])\n",
    "\n",
    "# asarray는 새 배열 만들지 않음\n",
    "new_row = np.asarray(vector_row)\n",
    "print(new_row is vector_row)"
   ]
  },
  {
   "cell_type": "markdown",
   "metadata": {},
   "source": [
    "- array함수는 copy매개변수 있음. 기본값은 True, 배열 입력시 복사본 만듬. 그러나, 배열 복사시 배열 객체의 copy 메서드 사용할 것.  의도 명확"
   ]
  },
  {
   "cell_type": "code",
   "execution_count": 4,
   "metadata": {},
   "outputs": [
    {
     "data": {
      "text/plain": [
       "False"
      ]
     },
     "execution_count": 4,
     "metadata": {},
     "output_type": "execute_result"
    }
   ],
   "source": [
    "new_row = np.array(vector_row)\n",
    "new_row is vector_row"
   ]
  },
  {
   "cell_type": "code",
   "execution_count": 6,
   "metadata": {},
   "outputs": [
    {
     "data": {
      "text/plain": [
       "False"
      ]
     },
     "execution_count": 6,
     "metadata": {},
     "output_type": "execute_result"
    }
   ],
   "source": [
    "# copy method 사용하면 의도 분명해짐. 위 셀과 비교\n",
    "new_row = vector_row.copy()\n",
    "new_row is vector_row"
   ]
  },
  {
   "cell_type": "markdown",
   "metadata": {},
   "source": [
    "## 행렬 만들기\n",
    "\n",
    "넘파이로 2차원 배열 만든다"
   ]
  },
  {
   "cell_type": "code",
   "execution_count": 9,
   "metadata": {},
   "outputs": [
    {
     "data": {
      "text/plain": [
       "matrix([[1, 2],\n",
       "        [1, 2],\n",
       "        [1, 2]])"
      ]
     },
     "execution_count": 9,
     "metadata": {},
     "output_type": "execute_result"
    }
   ],
   "source": [
    "import numpy as np\n",
    "\n",
    "# 3row * 2col matrix\n",
    "matrix = np.array([[1, 2],\n",
    "                  [1, 2],\n",
    "                  [1, 2]])\n",
    "# 혹은,\n",
    "# numpy 행렬 특화 데이터 구조 존재\n",
    "matrix_object = np.mat([[1, 2],\n",
    "                       [1, 2],\n",
    "                       [1, 2]])\n",
    "matrix_object"
   ]
  },
  {
   "cell_type": "markdown",
   "metadata": {},
   "source": [
    "### 단, 위 방식 비권장. 배열이 넘파이 표준 데이터 구조이기 때문임. 또한 대부분 넘파이 함수는 행렬 객체가 아니라, 배열을 반환"
   ]
  },
  {
   "cell_type": "code",
   "execution_count": 13,
   "metadata": {},
   "outputs": [
    {
     "name": "stdout",
     "output_type": "stream",
     "text": [
      "[[1. 1.]\n",
      " [1. 1.]\n",
      " [1. 1.]]\n",
      "[[0. 0.]\n",
      " [0. 0.]\n",
      " [0. 0.]]\n"
     ]
    },
    {
     "data": {
      "text/plain": [
       "array([[1., 1.],\n",
       "       [1., 1.],\n",
       "       [1., 1.]])"
      ]
     },
     "execution_count": 13,
     "metadata": {},
     "output_type": "execute_result"
    }
   ],
   "source": [
    "# empty 함수는 초기값 대신 크기만 지정, random값으로 채워짐\n",
    "empty_matrix = np.empty((3,2))\n",
    "print(empty_matrix)\n",
    "\n",
    "# zeros는 0으로 채운 배열, ones는 1로 채운 배열 만듬\n",
    "zero_matrix = np.zeros((3,2))\n",
    "print(zero_matrix)\n",
    "\n",
    "one_matrix = np.ones((3,2))\n",
    "one_matrix"
   ]
  },
  {
   "cell_type": "markdown",
   "metadata": {},
   "source": [
    "- 특정 값으로 채운 배열은 full함수 사용. 첫번째 매개변수로 배열 크기, 두번째로 채울값 지정"
   ]
  },
  {
   "cell_type": "code",
   "execution_count": 15,
   "metadata": {},
   "outputs": [
    {
     "data": {
      "text/plain": [
       "array([[7, 7],\n",
       "       [7, 7],\n",
       "       [7, 7]])"
      ]
     },
     "execution_count": 15,
     "metadata": {},
     "output_type": "execute_result"
    }
   ],
   "source": [
    "# zero matrix만들고 7 더한다\n",
    "seven_matrix = np.zeros((3,2)) + 7\n",
    "\n",
    "# 이보다 full함수 사용 더 효율적\n",
    "seven_matrix = np.full((3,2), 7)\n",
    "seven_matrix"
   ]
  },
  {
   "cell_type": "markdown",
   "metadata": {},
   "source": [
    "## 데이터 0아닌 값이 매우 적음을 표현\n",
    "\n",
    "희소 행렬을 만든다"
   ]
  },
  {
   "cell_type": "code",
   "execution_count": 18,
   "metadata": {},
   "outputs": [
    {
     "data": {
      "text/plain": [
       "<3x2 sparse matrix of type '<class 'numpy.int64'>'\n",
       "\twith 2 stored elements in Compressed Sparse Row format>"
      ]
     },
     "execution_count": 18,
     "metadata": {},
     "output_type": "execute_result"
    }
   ],
   "source": [
    "import numpy as np\n",
    "from scipy import sparse\n",
    "\n",
    "matrix = np.array([[0, 0],\n",
    "                  [0, 1],\n",
    "                  [3, 0]])\n",
    "\n",
    "# CSR 행렬 만든다 (Compressed sparse row, CSR)\n",
    "matrix_sparse = sparse.csr_matrix(matrix)\n",
    "matrix_sparse"
   ]
  },
  {
   "cell_type": "markdown",
   "metadata": {},
   "source": [
    "- sparse matrix는 0아닌 원소만 저장.계산 비용 절감가능. "
   ]
  },
  {
   "cell_type": "code",
   "execution_count": 19,
   "metadata": {},
   "outputs": [
    {
     "name": "stdout",
     "output_type": "stream",
     "text": [
      "  (1, 1)\t1\n",
      "  (2, 0)\t3\n"
     ]
    }
   ],
   "source": [
    "# 본 희소 행렬에서 (1,1), (2,0) 원소는 0아닌값 1, 3을 가짐\n",
    "print(matrix_sparse)"
   ]
  },
  {
   "cell_type": "code",
   "execution_count": 20,
   "metadata": {},
   "outputs": [
    {
     "name": "stdout",
     "output_type": "stream",
     "text": [
      "  (1, 1)\t1\n",
      "  (2, 0)\t3\n"
     ]
    }
   ],
   "source": [
    "# 1을 (1,1)에, 3을 (2,0)에, 전체크기는 3*10\n",
    "matrix_sparse_2 = sparse.csr_matrix(([1, 3], ([1, 2], [1, 0])), shape=(3, 10))\n",
    "print(matrix_sparse_2)"
   ]
  },
  {
   "cell_type": "code",
   "execution_count": 21,
   "metadata": {},
   "outputs": [
    {
     "name": "stdout",
     "output_type": "stream",
     "text": [
      "[[0 0 0 0 0 0 0 0 0 0]\n",
      " [0 1 0 0 0 0 0 0 0 0]\n",
      " [3 0 0 0 0 0 0 0 0 0]]\n"
     ]
    }
   ],
   "source": [
    "# 희소 행렬을 밀집 배열로 변환시 toarray 메서드 사용\n",
    "print(matrix_sparse_2.toarray())"
   ]
  },
  {
   "cell_type": "code",
   "execution_count": 22,
   "metadata": {},
   "outputs": [
    {
     "data": {
      "text/plain": [
       "matrix([[0, 0, 0, 0, 0, 0, 0, 0, 0, 0],\n",
       "        [0, 1, 0, 0, 0, 0, 0, 0, 0, 0],\n",
       "        [3, 0, 0, 0, 0, 0, 0, 0, 0, 0]])"
      ]
     },
     "execution_count": 22,
     "metadata": {},
     "output_type": "execute_result"
    }
   ],
   "source": [
    "# todense 메서드는 np.matrix 객체 반환\n",
    "matrix_sparse_2.todense()"
   ]
  },
  {
   "cell_type": "markdown",
   "metadata": {},
   "source": [
    "## vector, array에서 원소 선택하기\n",
    "\n",
    "넘파이 배열 사용"
   ]
  },
  {
   "cell_type": "code",
   "execution_count": 25,
   "metadata": {},
   "outputs": [
    {
     "name": "stdout",
     "output_type": "stream",
     "text": [
      "3\n",
      "5\n"
     ]
    }
   ],
   "source": [
    "import numpy as np\n",
    "\n",
    "# 행벡터 만든다\n",
    "vector = np.array([1, 2, 3, 4, 5, 6])\n",
    "\n",
    "# 행렬 만든다\n",
    "matrix = np.array([[1, 2, 3], \n",
    "                   [4, 5, 6],\n",
    "                  [7, 8, 9]])\n",
    "print(vector[2])\n",
    "print(matrix[1,1])"
   ]
  },
  {
   "cell_type": "code",
   "execution_count": 27,
   "metadata": {},
   "outputs": [
    {
     "data": {
      "text/plain": [
       "array([[1, 2, 3],\n",
       "       [4, 5, 6],\n",
       "       [7, 8, 9]])"
      ]
     },
     "execution_count": 27,
     "metadata": {},
     "output_type": "execute_result"
    }
   ],
   "source": [
    "# 벡터 모든 원소 선택\n",
    "vector[:]\n",
    "# matrix[:]"
   ]
  },
  {
   "cell_type": "code",
   "execution_count": 28,
   "metadata": {},
   "outputs": [
    {
     "data": {
      "text/plain": [
       "array([1, 2, 3])"
      ]
     },
     "execution_count": 28,
     "metadata": {},
     "output_type": "execute_result"
    }
   ],
   "source": [
    "# 세번째 원소 포한 그 이전 모든 원소 선택\n",
    "vector[:3]"
   ]
  },
  {
   "cell_type": "code",
   "execution_count": 29,
   "metadata": {},
   "outputs": [
    {
     "data": {
      "text/plain": [
       "array([4, 5, 6])"
      ]
     },
     "execution_count": 29,
     "metadata": {},
     "output_type": "execute_result"
    }
   ],
   "source": [
    "# 세번째 이후 모든 원소(세번째 포함 안함)\n",
    "vector[3:]"
   ]
  },
  {
   "cell_type": "code",
   "execution_count": 31,
   "metadata": {},
   "outputs": [
    {
     "data": {
      "text/plain": [
       "array([7, 8, 9])"
      ]
     },
     "execution_count": 31,
     "metadata": {},
     "output_type": "execute_result"
    }
   ],
   "source": [
    "vector[-1]\n",
    "matrix[-1]"
   ]
  },
  {
   "cell_type": "code",
   "execution_count": 32,
   "metadata": {},
   "outputs": [
    {
     "data": {
      "text/plain": [
       "array([[1, 2, 3],\n",
       "       [4, 5, 6]])"
      ]
     },
     "execution_count": 32,
     "metadata": {},
     "output_type": "execute_result"
    }
   ],
   "source": [
    "# 행렬에서 두번째 행까지 선택\n",
    "matrix[:2,:]"
   ]
  },
  {
   "cell_type": "code",
   "execution_count": 34,
   "metadata": {},
   "outputs": [
    {
     "data": {
      "text/plain": [
       "array([[2],\n",
       "       [5],\n",
       "       [8]])"
      ]
     },
     "execution_count": 34,
     "metadata": {},
     "output_type": "execute_result"
    }
   ],
   "source": [
    "# 행렬에서 두번째 열 선택\n",
    "matrix[:, 1:2]"
   ]
  },
  {
   "cell_type": "code",
   "execution_count": 37,
   "metadata": {},
   "outputs": [
    {
     "name": "stdout",
     "output_type": "stream",
     "text": [
      "[[1 2 3]\n",
      " [7 8 9]]\n",
      "[[0, 2], [1, 0]]\n"
     ]
    }
   ],
   "source": [
    "# fancy indexing. 행과 열 인덱스 리스트 전달하여 원소 선택하기\n",
    "print(matrix[[0, 2]])\n",
    "print([[0, 2], [1, 0]])"
   ]
  },
  {
   "cell_type": "code",
   "execution_count": 39,
   "metadata": {},
   "outputs": [
    {
     "name": "stdout",
     "output_type": "stream",
     "text": [
      "[[False False False]\n",
      " [False False  True]\n",
      " [ True  True  True]]\n",
      "[[False False  True]\n",
      " [False False False]\n",
      " [False False False]]\n"
     ]
    }
   ],
   "source": [
    "# boolean mask 배열, 원소를 선택, 행렬의 각 원소에 비교 연산자를 적용.\n",
    "mask = matrix > 5\n",
    "print(mask)\n",
    "mask_2 = matrix == 3\n",
    "print(mask_2)"
   ]
  },
  {
   "cell_type": "markdown",
   "metadata": {},
   "source": [
    "## 행렬 크기, 원소 개수, 차원 얻기\n",
    "\n",
    "shape와 size, ndim**속성** 사용한다.\n",
    "\n",
    "- shape: 크기\n",
    "- size: 원소 개수\n",
    "\n",
    "계산 완료후 확인하는 용도로 사용 가능"
   ]
  },
  {
   "cell_type": "code",
   "execution_count": 44,
   "metadata": {},
   "outputs": [
    {
     "name": "stdout",
     "output_type": "stream",
     "text": [
      "(3, 4)\n",
      "12\n",
      "2\n",
      "3\n"
     ]
    }
   ],
   "source": [
    "import numpy as np\n",
    "\n",
    "matrix = np.array([[1, 2, 3, 4],\n",
    "                  [5, 6, 7, 8],\n",
    "                  [9, 10, 11, 12]])\n",
    "\n",
    "# 행렬 크기 확인\n",
    "print(matrix.shape)\n",
    "\n",
    "# 행렬 원소 개수(행 * 열)\n",
    "print(matrix.size)\n",
    "\n",
    "# 행렬 차원 수\n",
    "print(matrix.ndim)\n",
    "\n",
    "matrix_2 = np.array([[[1],[2],[3]],[[4],[5],[6]]])\n",
    "print(matrix_2.ndim)"
   ]
  },
  {
   "cell_type": "code",
   "execution_count": 46,
   "metadata": {},
   "outputs": [
    {
     "name": "stdout",
     "output_type": "stream",
     "text": [
      "int64\n",
      "8\n",
      "96\n"
     ]
    }
   ],
   "source": [
    "# 원소 데이터 타입 출력\n",
    "print(matrix.dtype)\n",
    "\n",
    "# 원소 바이트 크기 출력\n",
    "print(matrix.itemsize)\n",
    "\n",
    "# 배열 전체 바이트 크기 출력\n",
    "print(matrix.nbytes)"
   ]
  },
  {
   "cell_type": "markdown",
   "metadata": {},
   "source": [
    "## 벡터화 연산 적용\n",
    "\n",
    "### 배열 여러 원소에 함수 적용하기\n",
    "\n",
    "numpy의 vectorize사용한다.vectorize 클래스는 배열에 적용하도록 함수를 변환시킨다. for loop 구현이다. 성능 향상 없다. 단 넘파이 배열은 broadcasting 가능하다. 더욱 간단하다"
   ]
  },
  {
   "cell_type": "code",
   "execution_count": 49,
   "metadata": {},
   "outputs": [
    {
     "name": "stdout",
     "output_type": "stream",
     "text": [
      "[[101 102 103]\n",
      " [104 105 106]\n",
      " [107 108 109]]\n"
     ]
    }
   ],
   "source": [
    "import numpy as np\n",
    "\n",
    "matrix = np.array([[1, 2, 3],\n",
    "                  [4, 5, 6],\n",
    "                  [7, 8, 9]])\n",
    "\n",
    "# 100 더하는 함수 만든다\n",
    "add_100 = lambda i: i + 100\n",
    "\n",
    "# 벡터화된 함수 만든다\n",
    "vectorized_add_100 = np.vectorize(add_100)\n",
    "\n",
    "# 행렬 모든 원소에 함수 적용한다\n",
    "\n",
    "print(vectorized_add_100(matrix))"
   ]
  },
  {
   "cell_type": "code",
   "execution_count": 51,
   "metadata": {},
   "outputs": [
    {
     "name": "stdout",
     "output_type": "stream",
     "text": [
      "[[101 102 103]\n",
      " [104 105 106]\n",
      " [107 108 109]]\n",
      "[[101 102 103]\n",
      " [104 105 106]\n",
      " [107 108 109]]\n"
     ]
    }
   ],
   "source": [
    "# broadcasting\n",
    "print(matrix + 100)\n",
    "\n",
    "# (3, 3)에 (3, )크기 벡터 연산하면 (1, 3)크기가 되어 반복\n",
    "# (3, 1)크기로(열)로 반복도 가능\n",
    "print(matrix + [100, 100, 100])"
   ]
  },
  {
   "cell_type": "markdown",
   "metadata": {},
   "source": [
    "## 배열에서 최대/최소값찾기\n",
    "\n",
    "numpy max, min 함수 사용한다. "
   ]
  },
  {
   "cell_type": "code",
   "execution_count": 59,
   "metadata": {},
   "outputs": [
    {
     "name": "stdout",
     "output_type": "stream",
     "text": [
      "9\n",
      "1\n",
      "[7 8 9]\n",
      "[3 6 9]\n",
      "[[3]\n",
      " [6]\n",
      " [9]]\n",
      "[[1 2 3]\n",
      " [4 5 6]\n",
      " [7 8 9]]\n",
      "[[-2 -1  0]\n",
      " [-2 -1  0]\n",
      " [-2 -1  0]]\n"
     ]
    }
   ],
   "source": [
    "import numpy as np\n",
    "\n",
    "matrix = np.array([[1, 2, 3],\n",
    "       [4, 5, 6],\n",
    "       [7, 8, 9]])\n",
    "\n",
    "print(np.max(matrix))\n",
    "print(np.min(matrix))\n",
    "\n",
    "# axis 매개변수로 특정 축에대해서 연산가능\n",
    "# 각 열에서 최대값 출력\n",
    "print(np.max(matrix, axis=0))\n",
    "\n",
    "# 각 행에서 최대값 출력\n",
    "print(np.max(matrix, axis=1))\n",
    "\n",
    "# keepdims parameter True로 지정, 원본 배열과 동일 결과, 안전하게 브로드캐스팅 가능\n",
    "vector_column = np.max(matrix, axis=1, keepdims=True)\n",
    "print(vector_column)\n",
    "\n",
    "# 열벡터이므로 브로드캐스팅 이용, 각 행 최대값 뺄셈 연산 가능\n",
    "print(matrix)\n",
    "print(matrix - vector_column)"
   ]
  },
  {
   "cell_type": "markdown",
   "metadata": {},
   "source": [
    "## 배열 통계값인 평균, 분산, 표준편차 계산하기\n",
    "\n",
    "numpy의 mean, var, std 함수 사용한다."
   ]
  },
  {
   "cell_type": "code",
   "execution_count": 60,
   "metadata": {},
   "outputs": [
    {
     "name": "stdout",
     "output_type": "stream",
     "text": [
      "[[1 2 3]\n",
      " [4 5 6]\n",
      " [7 8 9]]\n",
      "5.0\n",
      "6.666666666666667\n",
      "2.581988897471611\n",
      "[4. 5. 6.]\n"
     ]
    }
   ],
   "source": [
    "print(matrix)\n",
    "\n",
    "# 평균 반환한다\n",
    "print(np.mean(matrix))\n",
    "\n",
    "# 분산 반환한다\n",
    "print(np.var(matrix))\n",
    "\n",
    "# 표준편차 반환\n",
    "print(np.std(matrix))\n",
    "\n",
    "# axis 매개변수로 특정축 통계값 계산도 가능\n",
    "print(np.mean(matrix, axis=0))"
   ]
  },
  {
   "cell_type": "code",
   "execution_count": 63,
   "metadata": {},
   "outputs": [
    {
     "name": "stdout",
     "output_type": "stream",
     "text": [
      "2.7386127875258306\n"
     ]
    },
    {
     "data": {
      "text/plain": [
       "0    2.738613\n",
       "dtype: float64"
      ]
     },
     "execution_count": 63,
     "metadata": {},
     "output_type": "execute_result"
    }
   ],
   "source": [
    "# 무편향 분산, 표준편차 계산하기\n",
    "# np.std, np.var 함수에서 ddof 매개변수 1로 지정하면 무편향 추정값 얻는다\n",
    "# ddof 매개변수 기본값은 0\n",
    "print(np.std(matrix, ddof=1))\n",
    "\n",
    "# pandas dataframe std메서드는 ddof 매개변수 기본값 1이다\n",
    "import pandas as pd\n",
    "\n",
    "df = pd.DataFrame(matrix.flatten())\n",
    "df.std()\n",
    "\n",
    "# 실제 머신러닝 모델 훈련시 자유도 영향 비교적 적어 고려안한다 "
   ]
  },
  {
   "cell_type": "markdown",
   "metadata": {},
   "source": [
    "## 원소값 그대로 배열 크기만 변경\n",
    "\n",
    "numpy reshape 함수 사용한다"
   ]
  },
  {
   "cell_type": "code",
   "execution_count": 74,
   "metadata": {},
   "outputs": [
    {
     "name": "stdout",
     "output_type": "stream",
     "text": [
      "12\n",
      "[[ 1  2  3]\n",
      " [ 4  5  6]\n",
      " [ 7  8  9]\n",
      " [10 11 12]]\n",
      "[[ 1  2  3  4  5  6]\n",
      " [ 7  8  9 10 11 12]]\n",
      "[[ 1  2  3  4  5  6  7  8  9 10 11 12]]\n",
      "[ 1  2  3  4  5  6  7  8  9 10 11 12]\n",
      "[ 1  2  3  4  5  6  7  8  9 10 11 12]\n",
      "[ 1  2  3  4  5  6  7  8  9 10 11 12]\n"
     ]
    }
   ],
   "source": [
    "matrix = np.array([[1, 2, 3],\n",
    "                   [4, 5, 6],\n",
    "                   [7, 8, 9],\n",
    "                   [10, 11, 12]])\n",
    "print(matrix.size)\n",
    "print(matrix)\n",
    "print(matrix.reshape(2, 6))\n",
    "\n",
    "# reshape중 매개변수 -1은 가능한 많이 의미한다\n",
    "print(matrix.reshape(1, -1))\n",
    "\n",
    "# reshape 정수 하나 입력시 그 길이의 1차원 배열 반환\n",
    "print(matrix.reshape(12))\n",
    "\n",
    "# 배열 전체길이 고려없이 reshape method -1 입력하면 1차원 배열로 변환\n",
    "print(matrix.reshape(-1))\n",
    "\n",
    "# ravel method 동일 작업 수행\n",
    "print(matrix.ravel())"
   ]
  },
  {
   "cell_type": "markdown",
   "metadata": {},
   "source": [
    "## 벡터 및 행렬 transpose\n",
    "\n",
    "T method 사용한다"
   ]
  },
  {
   "cell_type": "code",
   "execution_count": null,
   "metadata": {},
   "outputs": [],
   "source": []
  }
 ],
 "metadata": {
  "kernelspec": {
   "display_name": "Python 3",
   "language": "python",
   "name": "python3"
  },
  "language_info": {
   "codemirror_mode": {
    "name": "ipython",
    "version": 3
   },
   "file_extension": ".py",
   "mimetype": "text/x-python",
   "name": "python",
   "nbconvert_exporter": "python",
   "pygments_lexer": "ipython3",
   "version": "3.7.1"
  }
 },
 "nbformat": 4,
 "nbformat_minor": 4
}
